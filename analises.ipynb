{
 "cells": [
  {
   "cell_type": "code",
   "execution_count": 0,
   "metadata": {
    "application/vnd.databricks.v1+cell": {
     "cellMetadata": {
      "byteLimit": 2048000,
      "rowLimit": 10000
     },
     "inputWidgets": {},
     "nuid": "f6c6d0b7-6c77-4a41-9509-1f39ce5c9dbf",
     "showTitle": false,
     "tableResultSettingsMap": {},
     "title": ""
    }
   },
   "outputs": [],
   "source": [
    "from pyspark.sql import SparkSession\n",
    "\n",
    "# Parâmetros \n",
    "year = 2023\n",
    "month_from = 1\n",
    "month_to = 4\n",
    "\n",
    "spark = SparkSession.builder.getOrCreate()\n",
    "spark.sql(\"USE CATALOG nyc_taxi\")\n",
    "spark.sql(\"USE SCHEMA data_area\")\n",
    "\n"
   ]
  },
  {
   "cell_type": "code",
   "execution_count": 0,
   "metadata": {
    "application/vnd.databricks.v1+cell": {
     "cellMetadata": {
      "byteLimit": 2048000,
      "rowLimit": 10000
     },
     "inputWidgets": {},
     "nuid": "6cdc5504-89b1-4fc1-b83b-5783b04d265a",
     "showTitle": false,
     "tableResultSettingsMap": {},
     "title": ""
    }
   },
   "outputs": [],
   "source": [
    "## Evolução diária volume, receita e média móvel 7 dias\n",
    "spark.sql(f'''\n",
    "WITH base AS (\n",
    "  SELECT\n",
    "    dt,\n",
    "    qtd_viagens,\n",
    "    receita_total,\n",
    "    ticket_medio\n",
    "  FROM nyc_taxi.data_area.v_gold_fat_diario\n",
    "  WHERE dataset_year = {year}\n",
    "    AND dataset_month BETWEEN {month_from} AND {month_to}\n",
    ")\n",
    "SELECT\n",
    "  dt,\n",
    "  qtd_viagens,\n",
    "  receita_total,\n",
    "  ticket_medio,\n",
    "  AVG(qtd_viagens)   OVER (ORDER BY dt ROWS BETWEEN 6 PRECEDING AND CURRENT ROW) AS mm7_viagens,\n",
    "  AVG(receita_total) OVER (ORDER BY dt ROWS BETWEEN 6 PRECEDING AND CURRENT ROW) AS mm7_receita\n",
    "FROM base\n",
    "ORDER BY dt\n",
    "''').show(50, truncate=False)\n",
    "\n",
    "## Apresenta as movimentações adiarias, não tem tanta variações e mantem uma tendencia bem equilibrada."
   ]
  },
  {
   "cell_type": "code",
   "execution_count": 0,
   "metadata": {
    "application/vnd.databricks.v1+cell": {
     "cellMetadata": {
      "byteLimit": 2048000,
      "rowLimit": 10000
     },
     "inputWidgets": {},
     "nuid": "19208d24-4379-4200-a828-19982a149da0",
     "showTitle": false,
     "tableResultSettingsMap": {},
     "title": ""
    }
   },
   "outputs": [],
   "source": [
    "## Mix de pagamento. Share de corridas e de receita\"\n",
    "\n",
    "spark.sql(f'''\n",
    "WITH agg AS (\n",
    "  SELECT\n",
    "    payment_desc,\n",
    "    SUM(qtd_viagens)   AS viagens,\n",
    "    SUM(receita_total) AS receita\n",
    "  FROM nyc_taxi.data_area.v_gold_fact_payment\n",
    "  WHERE dataset_year = {year}\n",
    "    AND dataset_month BETWEEN {month_from} AND {month_to}\n",
    "  GROUP BY payment_desc\n",
    "),\n",
    "tot AS (\n",
    "  SELECT\n",
    "    SUM(viagens) AS tot_viagens,\n",
    "    SUM(receita) AS tot_receita\n",
    "  FROM agg\n",
    ")\n",
    "SELECT\n",
    "  a.payment_desc,\n",
    "  a.viagens,\n",
    "  a.receita,\n",
    "  ROUND(a.viagens / t.tot_viagens * 100, 2) AS pct_viagens,\n",
    "  ROUND(a.receita / t.tot_receita * 100, 2) AS pct_receita\n",
    "FROM agg a CROSS JOIN tot t\n",
    "ORDER BY receita DESC\n",
    "''').show(truncate=False)\n",
    "\n",
    "## O perfil de pagamento dominante é o cartão de credito, justamente pea facilidade de pagamento por app e aproximação."
   ]
  },
  {
   "cell_type": "code",
   "execution_count": 0,
   "metadata": {
    "application/vnd.databricks.v1+cell": {
     "cellMetadata": {
      "byteLimit": 2048000,
      "rowLimit": 10000
     },
     "inputWidgets": {},
     "nuid": "854c0763-0cac-4a0b-910a-2f45d24df8d5",
     "showTitle": false,
     "tableResultSettingsMap": {},
     "title": ""
    }
   },
   "outputs": [],
   "source": [
    "## Perfil por hora do dia, quando há mais corridas/receita\n",
    "spark.sql(f'''\n",
    "SELECT\n",
    "  hour,\n",
    "  SUM(qtd_viagens)   AS viagens,\n",
    "  SUM(receita_total) AS receita,\n",
    "  ROUND(AVG(ticket_medio), 2) AS ticket_medio_medio\n",
    "FROM nyc_taxi.data_area.v_gold_fact_hour\n",
    "WHERE dataset_year = {year}\n",
    "  AND dataset_month BETWEEN {month_from} AND {month_to}\n",
    "GROUP BY hour\n",
    "ORDER BY SUM(qtd_viagens), SUM(receita_total) DESC\n",
    "''').show(50, truncate=False)\n",
    "\n",
    "## Pelos dados podemos entender que nem sempre a quantidade de corridas vai gerar um ticket maior, mas os horarios considerados de madrugada, onde há baixa movimentação, custam mais caro."
   ]
  }
 ],
 "metadata": {
  "application/vnd.databricks.v1+notebook": {
   "computePreferences": null,
   "dashboards": [],
   "environmentMetadata": {
    "base_environment": "",
    "environment_version": "2"
   },
   "inputWidgetPreferences": null,
   "language": "python",
   "notebookMetadata": {
    "pythonIndentUnit": 4
   },
   "notebookName": "analises",
   "widgets": {}
  },
  "language_info": {
   "name": "python"
  }
 },
 "nbformat": 4,
 "nbformat_minor": 0
}
