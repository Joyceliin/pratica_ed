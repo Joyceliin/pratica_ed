{
 "cells": [
  {
   "cell_type": "code",
   "execution_count": 0,
   "metadata": {
    "application/vnd.databricks.v1+cell": {
     "cellMetadata": {
      "byteLimit": 2048000,
      "rowLimit": 10000
     },
     "inputWidgets": {},
     "nuid": "48e6597d-c993-4a6f-8b6d-ea2e86a87e53",
     "showTitle": false,
     "tableResultSettingsMap": {},
     "title": ""
    }
   },
   "outputs": [],
   "source": [
    "import json\n",
    "from pathlib import Path\n",
    "\n",
    "CONFIG_FILE = \"./config.json\" \n",
    "config = json.loads(Path(CONFIG_FILE).read_text())\n",
    "\n",
    "BASE_PATH = config.get(\"base_path\", \"/Volumes/nyc_taxi/data_area/lake_area/\")\n",
    "SUB = config.get(\"paths\", {})\n",
    "\n",
    "def safe_join(base: str, sub: str) -> str:\n",
    "    base = base.rstrip(\"/\")\n",
    "    sub = sub.lstrip(\"/\")\n",
    "    if base.startswith(\"/Volumes\") or \"://\" in base:\n",
    "        return f\"{base}/{sub}\"\n",
    "    return str(Path(base) / sub)\n",
    "\n",
    "BRONZE_PATH = safe_join(BASE_PATH, SUB.get(\"bronze\", \"bronze/\"))\n",
    "SILVER_PATH = safe_join(BASE_PATH, SUB.get(\"silver\", \"silver/\"))\n",
    "GOLD_PATH   = safe_join(BASE_PATH, SUB.get(\"gold\", \"gold/\"))\n",
    "RAW_PATH    = safe_join(BASE_PATH, SUB.get(\"raw\", \"raw/\"))\n",
    "\n",
    "# cria diretórios\n",
    "for p in [BRONZE_PATH, SILVER_PATH, GOLD_PATH, CHECKPOINTS, LOGS_PATH, RAW_PATH]:\n",
    "    dbutils.fs.mkdirs(p)\n",
    "\n",
    "\n",
    "for name, path in {\n",
    "    \"BRONZE_PATH\": BRONZE_PATH,\n",
    "    \"SILVER_PATH\": SILVER_PATH,\n",
    "    \"GOLD_PATH\": GOLD_PATH,\n",
    "    \"RAW_PATH\": RAW_PATH\n",
    "}.items():\n",
    "    print(f\"{name}: {path}\")\n"
   ]
  }
 ],
 "metadata": {
  "application/vnd.databricks.v1+notebook": {
   "computePreferences": null,
   "dashboards": [],
   "environmentMetadata": {
    "base_environment": "",
    "environment_version": "2"
   },
   "inputWidgetPreferences": null,
   "language": "python",
   "notebookMetadata": {
    "pythonIndentUnit": 4
   },
   "notebookName": "structure",
   "widgets": {}
  },
  "language_info": {
   "name": "python"
  }
 },
 "nbformat": 4,
 "nbformat_minor": 0
}
