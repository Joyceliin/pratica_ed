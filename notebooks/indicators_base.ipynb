{
 "cells": [
  {
   "cell_type": "code",
   "execution_count": 0,
   "metadata": {
    "application/vnd.databricks.v1+cell": {
     "cellMetadata": {
      "byteLimit": 2048000,
      "rowLimit": 10000
     },
     "inputWidgets": {},
     "nuid": "e0abf03b-d190-4396-9473-3b845ae14d33",
     "showTitle": false,
     "tableResultSettingsMap": {},
     "title": ""
    }
   },
   "outputs": [],
   "source": [
    "# REBUILD GOLD (fatos) a partir da Silver nova\n",
    "import json\n",
    "from pathlib import Path\n",
    "from pyspark.sql import functions as F\n",
    "\n",
    "# --- configuracoes\n",
    "CONFIG_FILE = \"/Workspace/Users/joycelnog@gmail.com/pratica_ed/config.json\"\n",
    "cfg  = json.loads(Path(CONFIG_FILE).read_text())\n",
    "BASE = cfg[\"base_path\"]\n",
    "GOLD_PATH   = f'{BASE}{cfg[\"paths\"][\"gold\"]}'\n",
    "\n",
    "spark.sql(\"USE CATALOG nyc_taxi\")\n",
    "spark.sql(\"USE SCHEMA data_area\")\n",
    "\n",
    "s = spark.table(\"nyc_taxi.data_area.v_silver_yellow_tripdata\")\n",
    "\n",
    "# --- definindo métricas temporais e métricas auxiliares\n",
    "s_aug = (s\n",
    "    .withColumn(\"dt\", F.to_date(\"tpep_pickup_datetime\"))\n",
    "    .withColumn(\"hour\", F.hour(\"tpep_pickup_datetime\"))\n",
    "    .withColumn(\"dur_min\", (F.col(\"tpep_dropoff_datetime\").cast(\"long\") - F.col(\"tpep_pickup_datetime\").cast(\"long\"))/60.0)\n",
    "    .withColumn(\"dur_hr\",  F.when(F.col(\"dur_min\") > 0, F.col(\"dur_min\")/60.0))\n",
    "    .withColumn(\"speed_mph\", F.when(F.col(\"dur_hr\").isNotNull(), F.col(\"trip_distance\")/F.col(\"dur_hr\")))\n",
    "    .withColumn(\"revenue_per_mile\", F.when(F.col(\"trip_distance\") > 0, F.col(\"total_amount\")/F.col(\"trip_distance\")))\n",
    "    .withColumn(\"tip_pct\", F.when(F.col(\"fare_amount\") > 0, F.col(\"tip_amount\")/F.col(\"fare_amount\")))\n",
    ")\n",
    "\n",
    "# --- FATO: diário\n",
    "fact_daily = (s_aug.groupBy(\"dataset_year\",\"dataset_month\",\"dt\")\n",
    "  .agg(F.count(\"*\").alias(\"qtd_viagens\"),\n",
    "       F.sum(\"total_amount\").alias(\"receita_total\"),\n",
    "       F.avg(\"total_amount\").alias(\"ticket_medio\"),\n",
    "       F.avg(\"trip_distance\").alias(\"dist_media_mi\"),\n",
    "       F.avg(\"dur_min\").alias(\"duracao_media_min\"),\n",
    "       F.avg(\"speed_mph\").alias(\"velocidade_media_mph\"),\n",
    "       F.avg(\"tip_pct\").alias(\"tip_pct_medio\"))\n",
    ")\n",
    "(fact_daily.write.format(\"delta\").mode(\"overwrite\").option(\"overwriteSchema\",\"true\")\n",
    " .partitionBy(\"dataset_year\",\"dataset_month\")\n",
    " .save(f\"{GOLD_PATH}fact_daily\"))\n",
    "spark.sql(f\"\"\"CREATE OR REPLACE VIEW nyc_taxi.data_area.v_gold_fact_daily AS\n",
    "SELECT * FROM delta.`{GOLD_PATH}fact_daily`\"\"\")\n",
    "\n",
    "# --- FATO: por tipo de pagamento\n",
    "fact_payment = (s_aug.groupBy(\"dataset_year\",\"dataset_month\",\"payment_type\",\"payment_desc\")\n",
    "  .agg(F.count(\"*\").alias(\"qtd_viagens\"),\n",
    "       F.sum(\"total_amount\").alias(\"receita_total\"),\n",
    "       F.avg(\"total_amount\").alias(\"ticket_medio\"),\n",
    "       F.avg(\"tip_pct\").alias(\"tip_pct_medio\"),\n",
    "       F.avg(\"revenue_per_mile\").alias(\"rev_por_milha_medio\"))\n",
    ")\n",
    "(fact_payment.write.format(\"delta\").mode(\"overwrite\").option(\"overwriteSchema\",\"true\")\n",
    " .partitionBy(\"dataset_year\",\"dataset_month\")\n",
    " .save(f\"{GOLD_PATH}fact_payment\"))\n",
    "spark.sql(f\"\"\"CREATE OR REPLACE VIEW nyc_taxi.data_area.v_gold_fact_payment AS\n",
    "SELECT * FROM delta.`{GOLD_PATH}fact_payment`\"\"\")\n",
    "\n",
    "# --- FATO: por hora do dia\n",
    "fact_hour = (s_aug.groupBy(\"dataset_year\",\"dataset_month\",\"dt\",\"hour\")\n",
    "  .agg(F.count(\"*\").alias(\"qtd_viagens\"),\n",
    "       F.sum(\"total_amount\").alias(\"receita_total\"),\n",
    "       F.avg(\"total_amount\").alias(\"ticket_medio\"),\n",
    "       F.avg(\"trip_distance\").alias(\"dist_media_mi\"),\n",
    "       F.avg(\"dur_min\").alias(\"duracao_media_min\"),\n",
    "       F.avg(\"speed_mph\").alias(\"velocidade_media_mph\"))\n",
    ")\n",
    "(fact_hour.write.format(\"delta\").mode(\"overwrite\").option(\"overwriteSchema\",\"true\")\n",
    " .partitionBy(\"dataset_year\",\"dataset_month\")\n",
    " .save(f\"{GOLD_PATH}fact_hour\"))\n",
    "spark.sql(f\"\"\"CREATE OR REPLACE VIEW nyc_taxi.data_area.v_gold_fact_hour AS\n",
    "SELECT * FROM delta.`{GOLD_PATH}fact_hour`\"\"\")\n",
    "\n",
    "\n"
   ]
  }
 ],
 "metadata": {
  "application/vnd.databricks.v1+notebook": {
   "computePreferences": null,
   "dashboards": [],
   "environmentMetadata": {
    "base_environment": "",
    "environment_version": "2"
   },
   "inputWidgetPreferences": null,
   "language": "python",
   "notebookMetadata": {
    "pythonIndentUnit": 4
   },
   "notebookName": "indicators_base",
   "widgets": {}
  },
  "language_info": {
   "name": "python"
  }
 },
 "nbformat": 4,
 "nbformat_minor": 0
}
